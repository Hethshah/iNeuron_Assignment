{
 "cells": [
  {
   "cell_type": "markdown",
   "id": "4fb58422-f4a4-4052-bfa1-671a70c1fde1",
   "metadata": {},
   "source": [
    "1.\tWrite a Python program to print \"Hello Python\"?\n",
    "2.\tWrite a Python program to do arithmetical operations addition and division.?\n",
    "3.\tWrite a Python program to find the area of a triangle?\n",
    "4.\tWrite a Python program to swap two variables?\n",
    "5.\tWrite a Python program to generate a random number?"
   ]
  },
  {
   "cell_type": "code",
   "execution_count": 2,
   "id": "f98301ce-f2c7-4669-b31f-cee0e9720b0b",
   "metadata": {},
   "outputs": [
    {
     "name": "stdout",
     "output_type": "stream",
     "text": [
      "Hello World\n"
     ]
    }
   ],
   "source": [
    "#Write a Python program to print \"Hello Python\"?\n",
    "print(\"Hello World\")"
   ]
  },
  {
   "cell_type": "code",
   "execution_count": 5,
   "id": "19f661fa-bd01-480d-bb07-75ee0baf0c49",
   "metadata": {},
   "outputs": [
    {
     "name": "stdout",
     "output_type": "stream",
     "text": [
      "6\n",
      "2.0\n"
     ]
    }
   ],
   "source": [
    "#Write a Python program to do arithmetical operations addition and division.?\n",
    "def add(num1, num2):\n",
    "    return num1 + num2\n",
    "\n",
    "def div(num1, num2):\n",
    "    return num1 / num2\n",
    "\n",
    "print(add(4,2))\n",
    "print(div(4,2))"
   ]
  },
  {
   "cell_type": "code",
   "execution_count": 6,
   "id": "d6f9775f-13aa-45e1-9405-cfdb25f7d6b2",
   "metadata": {},
   "outputs": [
    {
     "name": "stdout",
     "output_type": "stream",
     "text": [
      "4.0\n"
     ]
    }
   ],
   "source": [
    "#Write a Python program to find the area of a triangle?\n",
    "def area_of_triangle(base, height):\n",
    "    return 0.5 * base * height\n",
    "\n",
    "print(area_of_triangle(2,4))"
   ]
  },
  {
   "cell_type": "code",
   "execution_count": 8,
   "id": "fec6a743-048e-4460-b4a2-528719e0c6db",
   "metadata": {},
   "outputs": [
    {
     "name": "stdout",
     "output_type": "stream",
     "text": [
      "Before Swap a = 2 & b = 5\n",
      "After Swap a = 5 & b = 2\n"
     ]
    }
   ],
   "source": [
    "#Write a Python program to swap two variables?\n",
    "a, b = 2, 5\n",
    "print(\"Before Swap a = {} & b = {}\".format(a, b))\n",
    "a,b = b,a\n",
    "print(\"After Swap a = {} & b = {}\".format(a, b))   "
   ]
  },
  {
   "cell_type": "code",
   "execution_count": 12,
   "id": "163b113c-5ac1-44fe-a0ca-70d72089570a",
   "metadata": {},
   "outputs": [
    {
     "name": "stdout",
     "output_type": "stream",
     "text": [
      "93|57|87|89|84|76|23|64|37|28|1|7|27|43|91|56|68|99|83|41|25|30|79|97|10|9|70|64|21|42|20|49|79|60|33|87|34|85|27|50|46|43|56|76|88|76|38|55|22|62|91|25|5|92|60|7|47|59|96|73|68|35|44|80|8|81|80|27|35|64|78|56|14|50|71|9|42|68|71|62|53|30|5|67|60|72|94|30|1|14|21|59|28|77|95|74|58|86|41|97|"
     ]
    }
   ],
   "source": [
    "#Write a Python program to generate a random number?\n",
    "import random\n",
    "#Printing 100 random number in loop\n",
    "for i in range(100):\n",
    "    print(random.randint(1, 100), end = \"|\")"
   ]
  },
  {
   "cell_type": "code",
   "execution_count": null,
   "id": "1c39f9d7-1bf8-4d39-b649-185e29706210",
   "metadata": {},
   "outputs": [],
   "source": []
  }
 ],
 "metadata": {
  "kernelspec": {
   "display_name": "Python 3 (ipykernel)",
   "language": "python",
   "name": "python3"
  },
  "language_info": {
   "codemirror_mode": {
    "name": "ipython",
    "version": 3
   },
   "file_extension": ".py",
   "mimetype": "text/x-python",
   "name": "python",
   "nbconvert_exporter": "python",
   "pygments_lexer": "ipython3",
   "version": "3.9.12"
  }
 },
 "nbformat": 4,
 "nbformat_minor": 5
}
