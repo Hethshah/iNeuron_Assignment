{
 "cells": [
  {
   "cell_type": "markdown",
   "id": "03fb7303-8dac-4356-ae02-48204accf53d",
   "metadata": {},
   "source": [
    "1. Write a Python program to convert kilometers to miles?\n",
    "2. Write a Python program to convert Celsius to Fahrenheit?\n",
    "3. Write a Python program to display calendar?\n",
    "4. Write a Python program to solve quadratic equation?\n",
    "5. Write a Python program to swap two variables without temp variable?"
   ]
  },
  {
   "cell_type": "code",
   "execution_count": 9,
   "id": "b72070ac-2c1d-437c-8d75-093310ead177",
   "metadata": {},
   "outputs": [
    {
     "name": "stdout",
     "output_type": "stream",
     "text": [
      "5 Kms is equal to 3.106855 miles.\n"
     ]
    }
   ],
   "source": [
    "#Write a Python program to convert kilometers to miles?\n",
    "def km_to_mil(km):\n",
    "    mil = km * 0.621371\n",
    "    print(\"{} Kms is equal to {} miles.\".format(km, mil))\n",
    "    \n",
    "km_to_mil(5)"
   ]
  },
  {
   "cell_type": "code",
   "execution_count": 10,
   "id": "1bf730b2-bf2c-4fed-a99e-1c8a62f92a56",
   "metadata": {},
   "outputs": [
    {
     "name": "stdout",
     "output_type": "stream",
     "text": [
      "32 Celsius is equal to 89.6 Fahrenheit.\n"
     ]
    }
   ],
   "source": [
    "#Write a Python program to convert Celsius to Fahrenheit?\n",
    "def cel_to_far(cel):\n",
    "    far = (cel * 9/5) + 32\n",
    "    print(\"{} Celsius is equal to {} Fahrenheit.\".format(cel, far))\n",
    "\n",
    "cel_to_far(32)"
   ]
  },
  {
   "cell_type": "code",
   "execution_count": 12,
   "id": "26e673ed-32f9-47fc-b78b-dbcd37e1bc45",
   "metadata": {},
   "outputs": [
    {
     "name": "stdin",
     "output_type": "stream",
     "text": [
      "Enter the year:  2023\n",
      "Enter the month (1-12):  5\n"
     ]
    },
    {
     "name": "stdout",
     "output_type": "stream",
     "text": [
      "      May 2023\n",
      "Mo Tu We Th Fr Sa Su\n",
      " 1  2  3  4  5  6  7\n",
      " 8  9 10 11 12 13 14\n",
      "15 16 17 18 19 20 21\n",
      "22 23 24 25 26 27 28\n",
      "29 30 31\n",
      "\n"
     ]
    }
   ],
   "source": [
    "#Write a Python program to display calendar?\n",
    "import calendar\n",
    "\n",
    "year = int(input(\"Enter the year: \"))\n",
    "month = int(input(\"Enter the month (1-12): \"))\n",
    "\n",
    "cal = calendar.TextCalendar()\n",
    "calendar = cal.formatmonth(year, month)\n",
    "print(calendar)\n"
   ]
  },
  {
   "cell_type": "code",
   "execution_count": 15,
   "id": "6b6ff107-c0dc-4086-b1b9-869eb30b778a",
   "metadata": {},
   "outputs": [
    {
     "name": "stdout",
     "output_type": "stream",
     "text": [
      "(5.0, 2.0)\n"
     ]
    }
   ],
   "source": [
    "#Write a Python program to solve quadratic equation?\n",
    "def solve_quadratic(a, b, c):\n",
    "    d = b**2 - 4*a*c\n",
    "    if d > 0:\n",
    "        root1 = (-b + (d**0.5)) / (2*a)\n",
    "        root2 = (-b - (d**0.5)) / (2*a)\n",
    "        return root1, root2\n",
    "    elif d == 0:\n",
    "        root = -b / (2*a)\n",
    "        return root, root\n",
    "    else:\n",
    "        return None\n",
    "print(solve_quadratic(1, -7, 10))"
   ]
  },
  {
   "cell_type": "code",
   "execution_count": 16,
   "id": "0673bc6e-ad11-4586-9ea7-99cb7632ee18",
   "metadata": {},
   "outputs": [
    {
     "name": "stdout",
     "output_type": "stream",
     "text": [
      "Before Swap a = 2 & b = 5\n",
      "After Swap a = 5 & b = 2\n"
     ]
    }
   ],
   "source": [
    "#Write a Python program to swap two variables without temp variable?\n",
    "a, b = 2, 5\n",
    "print(\"Before Swap a = {} & b = {}\".format(a, b))\n",
    "a,b = b,a\n",
    "print(\"After Swap a = {} & b = {}\".format(a, b)) "
   ]
  },
  {
   "cell_type": "code",
   "execution_count": null,
   "id": "a985feab-b23c-4842-909e-5f4a4d11e3ef",
   "metadata": {},
   "outputs": [],
   "source": []
  }
 ],
 "metadata": {
  "kernelspec": {
   "display_name": "Python 3 (ipykernel)",
   "language": "python",
   "name": "python3"
  },
  "language_info": {
   "codemirror_mode": {
    "name": "ipython",
    "version": 3
   },
   "file_extension": ".py",
   "mimetype": "text/x-python",
   "name": "python",
   "nbconvert_exporter": "python",
   "pygments_lexer": "ipython3",
   "version": "3.9.12"
  }
 },
 "nbformat": 4,
 "nbformat_minor": 5
}
